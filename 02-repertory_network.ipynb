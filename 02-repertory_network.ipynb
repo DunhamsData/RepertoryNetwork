{
 "cells": [
  {
   "cell_type": "code",
   "execution_count": 1,
   "metadata": {},
   "outputs": [],
   "source": [
    "import json\n",
    "import re\n",
    "\n",
    "import networkx as nx\n",
    "import pandas as pd"
   ]
  },
  {
   "cell_type": "markdown",
   "metadata": {},
   "source": [
    "## Loading data"
   ]
  },
  {
   "cell_type": "markdown",
   "metadata": {},
   "source": [
    "#### Main"
   ]
  },
  {
   "cell_type": "code",
   "execution_count": 2,
   "metadata": {},
   "outputs": [],
   "source": [
    "main_df = pd.read_csv('data/out/rep_main_structure.csv', converters={\n",
    "    'Aka': eval,\n",
    "    'Pieces': eval,\n",
    "    'Larger_works': eval,\n",
    "})\n",
    "main_df.fillna('', inplace=True)"
   ]
  },
  {
   "cell_type": "code",
   "execution_count": 3,
   "metadata": {},
   "outputs": [
    {
     "data": {
      "text/plain": [
       "(2, 8)"
      ]
     },
     "execution_count": 3,
     "metadata": {},
     "output_type": "execute_result"
    }
   ],
   "source": [
    "main_df.shape"
   ]
  },
  {
   "cell_type": "code",
   "execution_count": 4,
   "metadata": {},
   "outputs": [
    {
     "data": {
      "text/html": [
       "<div>\n",
       "<style scoped>\n",
       "    .dataframe tbody tr th:only-of-type {\n",
       "        vertical-align: middle;\n",
       "    }\n",
       "\n",
       "    .dataframe tbody tr th {\n",
       "        vertical-align: top;\n",
       "    }\n",
       "\n",
       "    .dataframe thead th {\n",
       "        text-align: right;\n",
       "    }\n",
       "</style>\n",
       "<table border=\"1\" class=\"dataframe\">\n",
       "  <thead>\n",
       "    <tr style=\"text-align: right;\">\n",
       "      <th></th>\n",
       "      <th>Work</th>\n",
       "      <th>Aka</th>\n",
       "      <th>Category</th>\n",
       "      <th>Pieces</th>\n",
       "      <th>Larger_works</th>\n",
       "      <th>Sources (collection/box/folder)</th>\n",
       "      <th>Number of events documented as Piece</th>\n",
       "      <th>Number of events documented as Container</th>\n",
       "    </tr>\n",
       "  </thead>\n",
       "  <tbody>\n",
       "    <tr>\n",
       "      <th>0</th>\n",
       "      <td>Americana</td>\n",
       "      <td>{America}</td>\n",
       "      <td>Main</td>\n",
       "      <td>{Veracruzana}</td>\n",
       "      <td>{n/a}</td>\n",
       "      <td>SIU Programs Box 85-86; Rhoda Winter Russell P...</td>\n",
       "      <td>0</td>\n",
       "      <td>52</td>\n",
       "    </tr>\n",
       "    <tr>\n",
       "      <th>1</th>\n",
       "      <td>Veracruzana</td>\n",
       "      <td>{}</td>\n",
       "      <td>Main</td>\n",
       "      <td>{}</td>\n",
       "      <td>{n/a, Americana}</td>\n",
       "      <td>SIU Programs Box 85-86; Rhoda Winter Russell P...</td>\n",
       "      <td>65</td>\n",
       "      <td>0</td>\n",
       "    </tr>\n",
       "  </tbody>\n",
       "</table>\n",
       "</div>"
      ],
      "text/plain": [
       "          Work        Aka Category         Pieces      Larger_works  \\\n",
       "0    Americana  {America}     Main  {Veracruzana}             {n/a}   \n",
       "1  Veracruzana         {}     Main             {}  {n/a, Americana}   \n",
       "\n",
       "                     Sources (collection/box/folder)  \\\n",
       "0  SIU Programs Box 85-86; Rhoda Winter Russell P...   \n",
       "1  SIU Programs Box 85-86; Rhoda Winter Russell P...   \n",
       "\n",
       "   Number of events documented as Piece  \\\n",
       "0                                     0   \n",
       "1                                    65   \n",
       "\n",
       "   Number of events documented as Container  \n",
       "0                                        52  \n",
       "1                                         0  "
      ]
     },
     "execution_count": 4,
     "metadata": {},
     "output_type": "execute_result"
    }
   ],
   "source": [
    "main_df.head()"
   ]
  },
  {
   "cell_type": "markdown",
   "metadata": {},
   "source": [
    "#### Dances"
   ]
  },
  {
   "cell_type": "code",
   "execution_count": 5,
   "metadata": {},
   "outputs": [],
   "source": [
    "dances_df = pd.read_csv('data/out/rep_dances_structure.csv', converters={\n",
    "    'Pieces': eval,\n",
    "})\n",
    "dances_df.fillna('', inplace=True)"
   ]
  },
  {
   "cell_type": "code",
   "execution_count": 6,
   "metadata": {},
   "outputs": [
    {
     "data": {
      "text/plain": [
       "(1, 5)"
      ]
     },
     "execution_count": 6,
     "metadata": {},
     "output_type": "execute_result"
    }
   ],
   "source": [
    "dances_df.shape"
   ]
  },
  {
   "cell_type": "code",
   "execution_count": 7,
   "metadata": {},
   "outputs": [
    {
     "data": {
      "text/html": [
       "<div>\n",
       "<style scoped>\n",
       "    .dataframe tbody tr th:only-of-type {\n",
       "        vertical-align: middle;\n",
       "    }\n",
       "\n",
       "    .dataframe tbody tr th {\n",
       "        vertical-align: top;\n",
       "    }\n",
       "\n",
       "    .dataframe thead th {\n",
       "        text-align: right;\n",
       "    }\n",
       "</style>\n",
       "<table border=\"1\" class=\"dataframe\">\n",
       "  <thead>\n",
       "    <tr style=\"text-align: right;\">\n",
       "      <th></th>\n",
       "      <th>Dances in Dances</th>\n",
       "      <th>Pieces</th>\n",
       "      <th>Sources (collection/box/folder)</th>\n",
       "      <th>Number of events</th>\n",
       "      <th>Category</th>\n",
       "    </tr>\n",
       "  </thead>\n",
       "  <tbody>\n",
       "    <tr>\n",
       "      <th>0</th>\n",
       "      <td>La Bamba</td>\n",
       "      <td>{Veracruzana}</td>\n",
       "      <td>SIU Programs Box 85-86</td>\n",
       "      <td>15</td>\n",
       "      <td>Dance</td>\n",
       "    </tr>\n",
       "  </tbody>\n",
       "</table>\n",
       "</div>"
      ],
      "text/plain": [
       "  Dances in Dances         Pieces Sources (collection/box/folder)  \\\n",
       "0         La Bamba  {Veracruzana}          SIU Programs Box 85-86   \n",
       "\n",
       "   Number of events Category  \n",
       "0                15    Dance  "
      ]
     },
     "execution_count": 7,
     "metadata": {},
     "output_type": "execute_result"
    }
   ],
   "source": [
    "dances_df.head()"
   ]
  },
  {
   "cell_type": "markdown",
   "metadata": {},
   "source": [
    "#### Shows"
   ]
  },
  {
   "cell_type": "code",
   "execution_count": 8,
   "metadata": {},
   "outputs": [],
   "source": [
    "shows_df = pd.read_csv('data/out/rep_shows_structure.csv', converters={\n",
    "    'Aka': eval,\n",
    "    'Pieces': eval,\n",
    "})\n",
    "shows_df.fillna('', inplace=True)"
   ]
  },
  {
   "cell_type": "code",
   "execution_count": 9,
   "metadata": {},
   "outputs": [
    {
     "data": {
      "text/plain": [
       "(2, 6)"
      ]
     },
     "execution_count": 9,
     "metadata": {},
     "output_type": "execute_result"
    }
   ],
   "source": [
    "shows_df.shape"
   ]
  },
  {
   "cell_type": "code",
   "execution_count": 10,
   "metadata": {},
   "outputs": [
    {
     "data": {
      "text/html": [
       "<div>\n",
       "<style scoped>\n",
       "    .dataframe tbody tr th:only-of-type {\n",
       "        vertical-align: middle;\n",
       "    }\n",
       "\n",
       "    .dataframe tbody tr th {\n",
       "        vertical-align: top;\n",
       "    }\n",
       "\n",
       "    .dataframe thead th {\n",
       "        text-align: right;\n",
       "    }\n",
       "</style>\n",
       "<table border=\"1\" class=\"dataframe\">\n",
       "  <thead>\n",
       "    <tr style=\"text-align: right;\">\n",
       "      <th></th>\n",
       "      <th>Show</th>\n",
       "      <th>Aka</th>\n",
       "      <th>Pieces</th>\n",
       "      <th>Sources (collection/box/folder)</th>\n",
       "      <th>Number of events</th>\n",
       "      <th>Category</th>\n",
       "    </tr>\n",
       "  </thead>\n",
       "  <tbody>\n",
       "    <tr>\n",
       "      <th>0</th>\n",
       "      <td>Caribbean Rhapsody</td>\n",
       "      <td>{Rapsodia Caribe, A Caribbean Rhapsody, Rhapso...</td>\n",
       "      <td>{Veracruzana, Americana}</td>\n",
       "      <td>SIU Programs Box 85-86</td>\n",
       "      <td>20</td>\n",
       "      <td>Show</td>\n",
       "    </tr>\n",
       "    <tr>\n",
       "      <th>1</th>\n",
       "      <td>Tropical Carnival</td>\n",
       "      <td>{}</td>\n",
       "      <td>{Veracruzana, Americana}</td>\n",
       "      <td>SIU Programs Box 85-86</td>\n",
       "      <td>4</td>\n",
       "      <td>Show</td>\n",
       "    </tr>\n",
       "  </tbody>\n",
       "</table>\n",
       "</div>"
      ],
      "text/plain": [
       "                 Show                                                Aka  \\\n",
       "0  Caribbean Rhapsody  {Rapsodia Caribe, A Caribbean Rhapsody, Rhapso...   \n",
       "1   Tropical Carnival                                                 {}   \n",
       "\n",
       "                     Pieces Sources (collection/box/folder)  Number of events  \\\n",
       "0  {Veracruzana, Americana}          SIU Programs Box 85-86                20   \n",
       "1  {Veracruzana, Americana}          SIU Programs Box 85-86                 4   \n",
       "\n",
       "  Category  \n",
       "0     Show  \n",
       "1     Show  "
      ]
     },
     "execution_count": 10,
     "metadata": {},
     "output_type": "execute_result"
    }
   ],
   "source": [
    "shows_df.head()"
   ]
  },
  {
   "cell_type": "markdown",
   "metadata": {},
   "source": [
    "## Processing data"
   ]
  },
  {
   "cell_type": "code",
   "execution_count": 11,
   "metadata": {},
   "outputs": [],
   "source": [
    "def str2set(x):\n",
    "    return set(y.strip() for y in x.split(';') if y.strip())\n",
    "\n",
    "def set2str(x):\n",
    "    return '; '.join(sorted(x))"
   ]
  },
  {
   "cell_type": "code",
   "execution_count": 12,
   "metadata": {},
   "outputs": [],
   "source": [
    "def join_values(vs1, vs2):\n",
    "    vs1_set = str2set(vs1)\n",
    "    vs2_set = str2set(vs2)\n",
    "    union_set = vs1_set.union(vs2_set)\n",
    "    r = set2str(union_set)\n",
    "    return r"
   ]
  },
  {
   "cell_type": "code",
   "execution_count": 13,
   "metadata": {},
   "outputs": [],
   "source": [
    "def clean_akas(s):\n",
    "    r = re.sub(' \\[\\[.+?\\]\\]', '', s)\n",
    "    return r"
   ]
  },
  {
   "cell_type": "code",
   "execution_count": 14,
   "metadata": {},
   "outputs": [],
   "source": [
    "# n/a means that a piece can also be a piece on its own, not always part of a larger work.\n",
    "# This makes sense when n/a is along with other(s) work(s) in the column Larger work,\n",
    "# but not when it's alone. In any case, it's a piece and it doesn't affect the type\n",
    "# or color of the node.\n",
    "\n",
    "g = nx.DiGraph()\n",
    "\n",
    "for i, row in main_df.iterrows():\n",
    "    work = row.Work\n",
    "    pieces = row.Pieces\n",
    "    larger = row.Larger_works - {'n/a'}\n",
    "    style = 'Standalone' if 'n/a' in row.Larger_works else 'Other'\n",
    "    \n",
    "    aka = clean_akas(set2str(row.Aka))\n",
    "    size = row['Number of events documented as Piece'] + row['Number of events documented as Container']\n",
    "#     years = join_values(row['Years Performed'], row['Years Performed as Container (TMU)'])\n",
    "    \n",
    "    g.add_node(work, style=style, aka=aka, size=size)#, years=years)\n",
    "    \n",
    "    for p in pieces:\n",
    "        g.add_node(p)\n",
    "        g.add_edge(p, work)\n",
    "    \n",
    "    for lw in larger:\n",
    "        g.add_node(lw)\n",
    "        g.add_edge(work, lw)\n",
    "\n",
    "for i, row in dances_df.iterrows():\n",
    "    dance = row['Dances in Dances']\n",
    "    pieces = row.Pieces\n",
    "    \n",
    "    aka = ''\n",
    "    size = row['Number of events']\n",
    "#     years = row['Years performed']\n",
    "    \n",
    "    g.add_node(dance, aka=aka, size=size)#, years=years)\n",
    "    \n",
    "    for p in pieces:\n",
    "        g.add_edge(dance, p)\n",
    "\n",
    "for i, row in shows_df.iterrows():\n",
    "    show = row.Show\n",
    "    pieces = row.Pieces\n",
    "    \n",
    "    aka = clean_akas(set2str(row.Aka))\n",
    "    size = row['Number of events']\n",
    "#     years = row['Years Performed']\n",
    "    \n",
    "    g.add_node(show, aka=aka, size=size)#, years=years)\n",
    "    \n",
    "    for p in pieces:\n",
    "        g.add_edge(p, show)"
   ]
  },
  {
   "cell_type": "code",
   "execution_count": 15,
   "metadata": {},
   "outputs": [],
   "source": [
    "def is_disconnected(g, n):\n",
    "    return g.degree(n) == 0\n",
    "\n",
    "def has_only_outgoing_edges(g, n):\n",
    "    return g.in_degree(n) == 0 and g.out_degree(n) > 0\n",
    "\n",
    "def has_only_incoming_edges(g, n):\n",
    "    return g.in_degree(n) > 0 and g.out_degree(n) == 0\n",
    "\n",
    "def has_both_edges(g, n):\n",
    "    return g.in_degree(n) > 0 and g.out_degree(n) > 0\n",
    "\n",
    "for n in g:\n",
    "    if n in dances_df['Dances in Dances'].unique():\n",
    "        g.nodes[n]['type'] = 'Dance'\n",
    "    elif n in shows_df.Show.unique():\n",
    "        g.nodes[n]['type'] = 'Show'\n",
    "    else:\n",
    "        g.nodes[n]['type'] = 'Other'\n",
    "\n",
    "def all_incoming_dances(g, n):\n",
    "    incoming_edges = g.in_edges(n)\n",
    "    incoming_nodes = [n1 for n1, n2 in incoming_edges]\n",
    "    r = all(map(lambda x: g.nodes[x]['type'] == 'Dance', incoming_nodes))\n",
    "    return r\n",
    "\n",
    "def all_outgoing_shows(g, n):\n",
    "    outgoing_edges = g.out_edges(n)\n",
    "    outgoing_nodes = [n2 for n1, n2 in outgoing_edges]\n",
    "    r = all(map(lambda x: g.nodes[x]['type'] == 'Show', outgoing_nodes))\n",
    "    return r\n",
    "\n",
    "for n in g:\n",
    "    if n in dances_df['Dances in Dances'].unique():\n",
    "        pass\n",
    "    elif n in shows_df.Show.unique():\n",
    "        pass\n",
    "    else:\n",
    "        if is_disconnected(g, n):\n",
    "            g.nodes[n]['type'] = 'Piece'\n",
    "        elif has_only_incoming_edges(g, n):\n",
    "            if all_incoming_dances(g, n):\n",
    "                g.nodes[n]['type'] = 'Piece'\n",
    "            else:\n",
    "                g.nodes[n]['type'] = 'Container'\n",
    "        elif has_only_outgoing_edges(g, n):\n",
    "            g.nodes[n]['type'] = 'Piece'\n",
    "        else: # has_both_edges(g, n)\n",
    "            if all_incoming_dances(g, n):\n",
    "                g.nodes[n]['type'] = 'Piece'\n",
    "            elif all_outgoing_shows(g, n):\n",
    "                g.nodes[n]['type'] = 'Container'\n",
    "            else:\n",
    "                g.nodes[n]['type'] = 'Mix'\n",
    "\n",
    "for n in g:\n",
    "    assert(g.nodes[n]['type'] != 'Other')\n",
    "\n",
    "W = 10\n",
    "for n1 in g:\n",
    "    if 'style' not in g.nodes[n1]:\n",
    "            g.nodes[n1]['style'] = g.nodes[n1]['type']\n",
    "    elif g.nodes[n1]['style'] == 'Other':\n",
    "            g.nodes[n1]['style'] = g.nodes[n1]['type']\n",
    "    style = g.nodes[n1]['style']\n",
    "    for n2 in g.neighbors(n1):\n",
    "        if g.nodes[n1]['type'] == 'Container' and g.nodes[n2]['type'] == 'Show': # Red edge from Container to Show\n",
    "            g[n1][n2]['style'] = 'Container'\n",
    "        else: # Otherwise, general rule\n",
    "            g[n1][n2]['style'] = style\n",
    "        g[n1][n2]['Weight'] = 1 if style == 'Standalone' else W\n",
    "        g[n1][n2]['weight'] = 1 if style == 'Standalone' else W"
   ]
  },
  {
   "cell_type": "code",
   "execution_count": 16,
   "metadata": {},
   "outputs": [
    {
     "data": {
      "text/plain": [
       "5"
      ]
     },
     "execution_count": 16,
     "metadata": {},
     "output_type": "execute_result"
    }
   ],
   "source": [
    "g.number_of_nodes()"
   ]
  },
  {
   "cell_type": "code",
   "execution_count": 17,
   "metadata": {},
   "outputs": [
    {
     "data": {
      "text/plain": [
       "6"
      ]
     },
     "execution_count": 17,
     "metadata": {},
     "output_type": "execute_result"
    }
   ],
   "source": [
    "g.number_of_edges()"
   ]
  },
  {
   "cell_type": "code",
   "execution_count": 18,
   "metadata": {},
   "outputs": [
    {
     "data": {
      "text/plain": [
       "0"
      ]
     },
     "execution_count": 18,
     "metadata": {},
     "output_type": "execute_result"
    }
   ],
   "source": [
    "nx.number_of_selfloops(g)"
   ]
  },
  {
   "cell_type": "markdown",
   "metadata": {},
   "source": [
    "#### Comparison to older graph"
   ]
  },
  {
   "cell_type": "code",
   "execution_count": 19,
   "metadata": {},
   "outputs": [],
   "source": [
    "# h = nx.read_gexf('data2/out/repertory_2022-05-18.gexf')"
   ]
  },
  {
   "cell_type": "code",
   "execution_count": 20,
   "metadata": {},
   "outputs": [],
   "source": [
    "# for n in g:\n",
    "#     if n in h:\n",
    "#         if g.nodes[n]['type'] != h.nodes[n]['type']:\n",
    "#             print(n, '---', h.nodes[n]['type'], '=>', g.nodes[n]['type'])"
   ]
  },
  {
   "cell_type": "code",
   "execution_count": 21,
   "metadata": {},
   "outputs": [],
   "source": [
    "# for n in h:\n",
    "#     if n in g:\n",
    "#         if g.nodes[n]['type'] != h.nodes[n]['type']:\n",
    "#             print(n, '---', h.nodes[n]['type'], '=>', g.nodes[n]['type'])"
   ]
  },
  {
   "cell_type": "markdown",
   "metadata": {},
   "source": [
    "#### Comparison to column 'Category (AJM to add)'"
   ]
  },
  {
   "cell_type": "code",
   "execution_count": 22,
   "metadata": {},
   "outputs": [],
   "source": [
    "# for n, data in g.nodes(data=True):\n",
    "#     typ = data['type']\n",
    "#     if typ == 'Piece' or typ == 'Mix' or typ == 'Container':\n",
    "#         aux_df = main_df[main_df.Work == n]\n",
    "#         categ = aux_df.iloc[0]['Category (AJM to add)']\n",
    "#     elif typ == 'Show':\n",
    "#         aux_df = shows_df[shows_df.Show == n]\n",
    "#         categ = aux_df.iloc[0]['Category']\n",
    "#     elif typ == 'Dance':\n",
    "#         aux_df = dances_df[dances_df.Dance == n]\n",
    "#         categ = aux_df.iloc[0]['Category']\n",
    "#     assert(len(aux_df) == 1)\n",
    "#     assert(typ == categ or typ == 'Piece' and categ == 'Piece/Standalone')"
   ]
  },
  {
   "cell_type": "markdown",
   "metadata": {},
   "source": [
    "#### Filtering 1947-60"
   ]
  },
  {
   "cell_type": "code",
   "execution_count": 23,
   "metadata": {},
   "outputs": [],
   "source": [
    "# def in_range(years):\n",
    "#     return any(map(lambda x: 1947 <= int(x) <= 1960, years))"
   ]
  },
  {
   "cell_type": "code",
   "execution_count": 24,
   "metadata": {},
   "outputs": [],
   "source": [
    "# g2 = g.copy()\n",
    "# for n, data in g.nodes(data=True):\n",
    "#     years = str2set(data['years'])\n",
    "#     if not in_range(years):\n",
    "#         g2.remove_node(n)"
   ]
  },
  {
   "cell_type": "code",
   "execution_count": 25,
   "metadata": {},
   "outputs": [],
   "source": [
    "# g2.number_of_nodes()"
   ]
  },
  {
   "cell_type": "code",
   "execution_count": 26,
   "metadata": {},
   "outputs": [],
   "source": [
    "# g2.number_of_edges()"
   ]
  },
  {
   "cell_type": "code",
   "execution_count": 27,
   "metadata": {},
   "outputs": [],
   "source": [
    "# nx.number_of_selfloops(g2)"
   ]
  },
  {
   "cell_type": "markdown",
   "metadata": {},
   "source": [
    "### Other data"
   ]
  },
  {
   "cell_type": "markdown",
   "metadata": {},
   "source": [
    "#### Shortest distance matrix"
   ]
  },
  {
   "cell_type": "code",
   "execution_count": 28,
   "metadata": {},
   "outputs": [],
   "source": [
    "g3 = nx.Graph(g)"
   ]
  },
  {
   "cell_type": "code",
   "execution_count": 29,
   "metadata": {},
   "outputs": [
    {
     "name": "stdout",
     "output_type": "stream",
     "text": [
      "Americana --> Caribbean Rhapsody\n"
     ]
    }
   ],
   "source": [
    "for a, b in g.edges():\n",
    "    print(a, '-->', b)\n",
    "    break"
   ]
  },
  {
   "cell_type": "code",
   "execution_count": 30,
   "metadata": {},
   "outputs": [
    {
     "data": {
      "text/plain": [
       "True"
      ]
     },
     "execution_count": 30,
     "metadata": {},
     "output_type": "execute_result"
    }
   ],
   "source": [
    "(a, b) in g.edges()"
   ]
  },
  {
   "cell_type": "code",
   "execution_count": 31,
   "metadata": {},
   "outputs": [
    {
     "data": {
      "text/plain": [
       "False"
      ]
     },
     "execution_count": 31,
     "metadata": {},
     "output_type": "execute_result"
    }
   ],
   "source": [
    "(b, a) in g.edges()"
   ]
  },
  {
   "cell_type": "code",
   "execution_count": 32,
   "metadata": {},
   "outputs": [
    {
     "data": {
      "text/plain": [
       "True"
      ]
     },
     "execution_count": 32,
     "metadata": {},
     "output_type": "execute_result"
    }
   ],
   "source": [
    "(a, b) in g3.edges()"
   ]
  },
  {
   "cell_type": "code",
   "execution_count": 33,
   "metadata": {},
   "outputs": [
    {
     "data": {
      "text/plain": [
       "True"
      ]
     },
     "execution_count": 33,
     "metadata": {},
     "output_type": "execute_result"
    }
   ],
   "source": [
    "(b, a) in g3.edges()"
   ]
  },
  {
   "cell_type": "code",
   "execution_count": 34,
   "metadata": {},
   "outputs": [],
   "source": [
    "shortest_distance_matrix = dict(nx.shortest_path_length(g3))"
   ]
  },
  {
   "cell_type": "code",
   "execution_count": 35,
   "metadata": {},
   "outputs": [],
   "source": [
    "distances = set()\n",
    "for k1 in shortest_distance_matrix:\n",
    "    d = shortest_distance_matrix[k1]\n",
    "    for k2 in d:\n",
    "        v = d[k2]\n",
    "        distances.add(v)"
   ]
  },
  {
   "cell_type": "code",
   "execution_count": 36,
   "metadata": {},
   "outputs": [
    {
     "data": {
      "text/plain": [
       "{0, 1, 2}"
      ]
     },
     "execution_count": 36,
     "metadata": {},
     "output_type": "execute_result"
    }
   ],
   "source": [
    "distances"
   ]
  },
  {
   "cell_type": "markdown",
   "metadata": {},
   "source": [
    "#### Sub and super hierarchy"
   ]
  },
  {
   "cell_type": "code",
   "execution_count": 37,
   "metadata": {},
   "outputs": [],
   "source": [
    "# Loops\n",
    "for n in g:\n",
    "    for m in g:\n",
    "        if n in g.neighbors(m) and m in g.neighbors(n):\n",
    "            print('{} <--> {}'.format(n, m))"
   ]
  },
  {
   "cell_type": "code",
   "execution_count": 38,
   "metadata": {},
   "outputs": [],
   "source": [
    "def direct_super_neighbors(g, x):\n",
    "    return set(g.neighbors(x))\n",
    "\n",
    "def all_super_neighbors_aux(g, x, visited):\n",
    "    r = direct_super_neighbors(g, x)\n",
    "    for n in r:\n",
    "        if n not in visited:\n",
    "            r = r.union(all_super_neighbors_aux(g, n, visited.union({n})))\n",
    "    return r\n",
    "\n",
    "def all_super_neighbors(g, x):\n",
    "    return all_super_neighbors_aux(g, x, {x})\n",
    "\n",
    "def direct_sub_neighbors(g, x):\n",
    "    r = set()\n",
    "    for n in g:\n",
    "        ns = g.neighbors(n)\n",
    "        if x in ns:\n",
    "            r.add(n)\n",
    "    return r\n",
    "\n",
    "def all_sub_neighbors_aux(g, x, visited):\n",
    "    r = direct_sub_neighbors(g, x)\n",
    "    for n in r:\n",
    "        if n not in visited:\n",
    "            r = r.union(all_sub_neighbors_aux(g, n, visited.union({n})))\n",
    "    return r\n",
    "\n",
    "def all_sub_neighbors(g, x):\n",
    "    return all_sub_neighbors_aux(g, x, {x})\n",
    "\n",
    "def hierarchy(g, x):\n",
    "    r = {x}\n",
    "    r = r.union(all_super_neighbors(g, x))\n",
    "    r = r.union(all_sub_neighbors(g, x))\n",
    "    return r"
   ]
  },
  {
   "cell_type": "code",
   "execution_count": 39,
   "metadata": {},
   "outputs": [],
   "source": [
    "hierarchy_dict = {}\n",
    "for n in g:\n",
    "    hierarchy_dict[n] = {}\n",
    "    for m in hierarchy(g, n):\n",
    "        hierarchy_dict[n][m] = 0"
   ]
  },
  {
   "cell_type": "code",
   "execution_count": 40,
   "metadata": {},
   "outputs": [],
   "source": [
    "# COLORS\n",
    "# dances     - light blue - #00b7da\n",
    "# pieces     - blue       - #5c89ff\n",
    "# containers - red        - #ff4533\n",
    "# mix        - purple     - #bd7aff\n",
    "# standalone - light gray - #cecece\n",
    "# shows      - pink       - #ff0064"
   ]
  },
  {
   "cell_type": "markdown",
   "metadata": {},
   "source": [
    "## Saving data"
   ]
  },
  {
   "cell_type": "code",
   "execution_count": 41,
   "metadata": {},
   "outputs": [],
   "source": [
    "nx.write_gexf(g, 'web/dash-network/repertory.gexf')"
   ]
  },
  {
   "cell_type": "code",
   "execution_count": 42,
   "metadata": {},
   "outputs": [],
   "source": [
    "with open('web/dash-network/assets/shortest_distance_matrix.json', 'w') as f:\n",
    "    json.dump(shortest_distance_matrix, f)\n",
    "\n",
    "s = json.dumps(shortest_distance_matrix, indent=4, sort_keys=True)\n",
    "s = 'shortestDistanceMatrix = ' + s\n",
    "\n",
    "with open('web/dash-network/assets/shortest_distance_matrix.js', 'w') as f:\n",
    "    f.write(s)"
   ]
  },
  {
   "cell_type": "code",
   "execution_count": 43,
   "metadata": {},
   "outputs": [],
   "source": [
    "with open('web/dash-network/assets/hierarchies.json', 'w') as f:\n",
    "    json.dump(hierarchy_dict, f)\n",
    "\n",
    "s = json.dumps(hierarchy_dict, indent=4, sort_keys=True)\n",
    "s = 'hierarchies = ' + s\n",
    "\n",
    "with open('web/dash-network/assets/hierarchies.js', 'w') as f:\n",
    "    f.write(s)"
   ]
  }
 ],
 "metadata": {
  "kernelspec": {
   "display_name": "Python 3",
   "language": "python",
   "name": "python3"
  },
  "language_info": {
   "codemirror_mode": {
    "name": "ipython",
    "version": 3
   },
   "file_extension": ".py",
   "mimetype": "text/x-python",
   "name": "python",
   "nbconvert_exporter": "python",
   "pygments_lexer": "ipython3",
   "version": "3.8.10"
  }
 },
 "nbformat": 4,
 "nbformat_minor": 2
}
